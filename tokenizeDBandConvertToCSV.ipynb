{
 "cells": [
  {
   "cell_type": "code",
   "execution_count": 1,
   "id": "17d11126",
   "metadata": {},
   "outputs": [],
   "source": [
    "# Ewha Womans University Database Sample\n",
    "data = [\n",
    "    {\n",
    "        \"title\": \"Ewha Womans University Introduction\",\n",
    "        \"heading\": \"About Ewha\",\n",
    "        \"content\": \"Ewha Womans University is a private research university for women in Seoul, South Korea. Founded in 1886, it is the oldest and largest women's university in South Korea. Ewha is a comprehensive university with 11 colleges and 13 graduate schools offering over 100 undergraduate and graduate programs. The university is known for its strong academic programs, especially in the fields of humanities, social sciences, and natural sciences. Ewha also has a strong reputation for its international programs and has exchange agreements with over 300 universities around the world.\"\n",
    "    },\n",
    "    {\n",
    "        \"title\": \"Ewha Womans University Rankings\",\n",
    "        \"heading\": \"World University Rankings\",\n",
    "        \"content\": \"Ewha Womans University is ranked among the top universities in Asia and the world. In the 2023 QS World University Rankings, Ewha is ranked 101-150th in the world and 1st in South Korea. In the 2023 Times Higher Education World University Rankings, Ewha is ranked 151-200th in the world and 1st in South Korea.\"\n",
    "    },\n",
    "    {\n",
    "        \"title\": \"Undergraduate Admissions\",\n",
    "        \"heading\": \"Requirements\",\n",
    "        \"content\": \"Applicants must have a high school diploma or equivalent.\\nApplicants must submit their academic transcripts, standardized test scores (such as SAT or ACT), and letters of recommendation.\\nApplicants must also write an essay and submit a personal statement.\\nThe specific requirements for each program may vary, so it is important to check with the university for more information.\"\n",
    "    },\n",
    "    {\n",
    "        \"title\": \"Ewha Womans University Notable Alumni\",\n",
    "        \"heading\": \"Notable Alumni\",\n",
    "        \"content\": \"Ewha Womans University has a distinguished alumni body that includes many leaders in government, business, academia, and the arts. Some notable alumni include:\\nPark Geun-hye, former President of South Korea\\nKim Yoon-ok, former Prime Minister of South Korea\\nShin Ji-ye, Minister of Gender Equality and Family of South Korea\\nLee Mi-kyung, actress\\nSon Ye-jin, actress\\nIU, singer-songwriter\\nPark Bom, singer\"\n",
    "    },\n",
    "]  "
   ]
  },
  {
   "cell_type": "code",
   "execution_count": 3,
   "id": "8d10cfee",
   "metadata": {},
   "outputs": [
    {
     "name": "stdout",
     "output_type": "stream",
     "text": [
      "\u001b[33mWARNING: Skipping /opt/homebrew/lib/python3.12/site-packages/Jinja2-3.1.2.dist-info due to invalid metadata entry 'name'\u001b[0m\u001b[33m\n",
      "\u001b[0m\u001b[33mWARNING: Skipping /opt/homebrew/lib/python3.12/site-packages/PyYAML-6.0.1.dist-info due to invalid metadata entry 'name'\u001b[0m\u001b[33m\n",
      "\u001b[0m\u001b[33mWARNING: Skipping /opt/homebrew/lib/python3.12/site-packages/pygments-2.17.2.dist-info due to invalid metadata entry 'name'\u001b[0m\u001b[33m\n",
      "\u001b[0m\u001b[33mWARNING: Skipping /opt/homebrew/lib/python3.12/site-packages/packaging-23.2.dist-info due to invalid metadata entry 'name'\u001b[0m\u001b[33m\n",
      "\u001b[0m\u001b[33mWARNING: Skipping /opt/homebrew/lib/python3.12/site-packages/psutil-5.9.6.dist-info due to invalid metadata entry 'name'\u001b[0m\u001b[33m\n",
      "\u001b[0m\u001b[33mWARNING: Skipping /opt/homebrew/lib/python3.12/site-packages/pycparser-2.21.dist-info due to invalid metadata entry 'name'\u001b[0m\u001b[33m\n",
      "\u001b[0m\u001b[33mWARNING: Skipping /opt/homebrew/lib/python3.12/site-packages/cffi-1.16.0.dist-info due to invalid metadata entry 'name'\u001b[0m\u001b[33m\n",
      "\u001b[0m\u001b[33mWARNING: Skipping /opt/homebrew/lib/python3.12/site-packages/six-1.16.0-py3.12.egg-info due to invalid metadata entry 'name'\u001b[0m\u001b[33m\n",
      "\u001b[0m\u001b[33mWARNING: Skipping /opt/homebrew/lib/python3.12/site-packages/certifi-2023.11.17.dist-info due to invalid metadata entry 'name'\u001b[0m\u001b[33m\n",
      "\u001b[0m\u001b[33mWARNING: Skipping /opt/homebrew/lib/python3.12/site-packages/Jinja2-3.1.2.dist-info due to invalid metadata entry 'name'\u001b[0m\u001b[33m\n",
      "\u001b[0m\u001b[33mWARNING: Skipping /opt/homebrew/lib/python3.12/site-packages/PyYAML-6.0.1.dist-info due to invalid metadata entry 'name'\u001b[0m\u001b[33m\n",
      "\u001b[0m\u001b[33mWARNING: Skipping /opt/homebrew/lib/python3.12/site-packages/pygments-2.17.2.dist-info due to invalid metadata entry 'name'\u001b[0m\u001b[33m\n",
      "\u001b[0m\u001b[33mWARNING: Skipping /opt/homebrew/lib/python3.12/site-packages/packaging-23.2.dist-info due to invalid metadata entry 'name'\u001b[0m\u001b[33m\n",
      "\u001b[0m\u001b[33mWARNING: Skipping /opt/homebrew/lib/python3.12/site-packages/psutil-5.9.6.dist-info due to invalid metadata entry 'name'\u001b[0m\u001b[33m\n",
      "\u001b[0m\u001b[33mWARNING: Skipping /opt/homebrew/lib/python3.12/site-packages/pycparser-2.21.dist-info due to invalid metadata entry 'name'\u001b[0m\u001b[33m\n",
      "\u001b[0m\u001b[33mWARNING: Skipping /opt/homebrew/lib/python3.12/site-packages/cffi-1.16.0.dist-info due to invalid metadata entry 'name'\u001b[0m\u001b[33m\n",
      "\u001b[0m\u001b[33mWARNING: Skipping /opt/homebrew/lib/python3.12/site-packages/six-1.16.0-py3.12.egg-info due to invalid metadata entry 'name'\u001b[0m\u001b[33m\n",
      "\u001b[0m\u001b[33mWARNING: Skipping /opt/homebrew/lib/python3.12/site-packages/certifi-2023.11.17.dist-info due to invalid metadata entry 'name'\u001b[0m\u001b[33m\n",
      "\u001b[0m\u001b[33mWARNING: Skipping /opt/homebrew/lib/python3.12/site-packages/MarkupSafe-2.1.3.dist-info due to invalid metadata entry 'name'\u001b[0m\u001b[33m\n",
      "\u001b[0mCollecting tiktoken\n",
      "  Obtaining dependency information for tiktoken from https://files.pythonhosted.org/packages/91/13/c998aa4f53343fb2e7ec6cbfeff23a57623e774e518c033c2a675a935afb/tiktoken-0.5.2-cp312-cp312-macosx_11_0_arm64.whl.metadata\n",
      "  Downloading tiktoken-0.5.2-cp312-cp312-macosx_11_0_arm64.whl.metadata (6.6 kB)\n",
      "Requirement already satisfied: regex>=2022.1.18 in /opt/homebrew/Cellar/jupyterlab/4.0.9/libexec/lib/python3.12/site-packages (from tiktoken) (2023.10.3)\n",
      "Requirement already satisfied: requests>=2.26.0 in /opt/homebrew/Cellar/jupyterlab/4.0.9/libexec/lib/python3.12/site-packages (from tiktoken) (2.31.0)\n",
      "Requirement already satisfied: charset-normalizer<4,>=2 in /opt/homebrew/Cellar/jupyterlab/4.0.9/libexec/lib/python3.12/site-packages (from requests>=2.26.0->tiktoken) (3.3.2)\n",
      "Requirement already satisfied: idna<4,>=2.5 in /opt/homebrew/Cellar/jupyterlab/4.0.9/libexec/lib/python3.12/site-packages (from requests>=2.26.0->tiktoken) (3.4)\n",
      "Requirement already satisfied: urllib3<3,>=1.21.1 in /opt/homebrew/Cellar/jupyterlab/4.0.9/libexec/lib/python3.12/site-packages (from requests>=2.26.0->tiktoken) (2.1.0)\n",
      "Requirement already satisfied: certifi>=2017.4.17 in /opt/homebrew/opt/python-certifi/lib/python3.12/site-packages (from requests>=2.26.0->tiktoken) (2023.11.17)\n",
      "Downloading tiktoken-0.5.2-cp312-cp312-macosx_11_0_arm64.whl (953 kB)\n",
      "\u001b[2K   \u001b[90m━━━━━━━━━━━━━━━━━━━━━━━━━━━━━━━━━━━━━━━━\u001b[0m \u001b[32m953.6/953.6 kB\u001b[0m \u001b[31m1.8 MB/s\u001b[0m eta \u001b[36m0:00:00\u001b[0ma \u001b[36m0:00:01\u001b[0mm\n",
      "\u001b[?25h\u001b[33mWARNING: Skipping /opt/homebrew/lib/python3.12/site-packages/Jinja2-3.1.2.dist-info due to invalid metadata entry 'name'\u001b[0m\u001b[33m\n",
      "\u001b[0m\u001b[33mWARNING: Skipping /opt/homebrew/lib/python3.12/site-packages/PyYAML-6.0.1.dist-info due to invalid metadata entry 'name'\u001b[0m\u001b[33m\n",
      "\u001b[0m\u001b[33mWARNING: Skipping /opt/homebrew/lib/python3.12/site-packages/pygments-2.17.2.dist-info due to invalid metadata entry 'name'\u001b[0m\u001b[33m\n",
      "\u001b[0m\u001b[33mWARNING: Skipping /opt/homebrew/lib/python3.12/site-packages/packaging-23.2.dist-info due to invalid metadata entry 'name'\u001b[0m\u001b[33m\n",
      "\u001b[0m\u001b[33mWARNING: Skipping /opt/homebrew/lib/python3.12/site-packages/psutil-5.9.6.dist-info due to invalid metadata entry 'name'\u001b[0m\u001b[33m\n",
      "\u001b[0m\u001b[33mWARNING: Skipping /opt/homebrew/lib/python3.12/site-packages/pycparser-2.21.dist-info due to invalid metadata entry 'name'\u001b[0m\u001b[33m\n",
      "\u001b[0m\u001b[33mWARNING: Skipping /opt/homebrew/lib/python3.12/site-packages/cffi-1.16.0.dist-info due to invalid metadata entry 'name'\u001b[0m\u001b[33m\n",
      "\u001b[0m\u001b[33mWARNING: Skipping /opt/homebrew/lib/python3.12/site-packages/six-1.16.0-py3.12.egg-info due to invalid metadata entry 'name'\u001b[0m\u001b[33m\n",
      "\u001b[0m\u001b[33mWARNING: Skipping /opt/homebrew/lib/python3.12/site-packages/certifi-2023.11.17.dist-info due to invalid metadata entry 'name'\u001b[0m\u001b[33m\n",
      "\u001b[0m\u001b[33mWARNING: Skipping /opt/homebrew/lib/python3.12/site-packages/MarkupSafe-2.1.3.dist-info due to invalid metadata entry 'name'\u001b[0m\u001b[33m\n",
      "\u001b[0mInstalling collected packages: tiktoken\n",
      "Successfully installed tiktoken-0.5.2\n",
      "\u001b[33mWARNING: Skipping /opt/homebrew/lib/python3.12/site-packages/Jinja2-3.1.2.dist-info due to invalid metadata entry 'name'\u001b[0m\u001b[33m\n",
      "\u001b[0m\u001b[33mWARNING: Skipping /opt/homebrew/lib/python3.12/site-packages/PyYAML-6.0.1.dist-info due to invalid metadata entry 'name'\u001b[0m\u001b[33m\n",
      "\u001b[0m\u001b[33mWARNING: Skipping /opt/homebrew/lib/python3.12/site-packages/pygments-2.17.2.dist-info due to invalid metadata entry 'name'\u001b[0m\u001b[33m\n",
      "\u001b[0m\u001b[33mWARNING: Skipping /opt/homebrew/lib/python3.12/site-packages/packaging-23.2.dist-info due to invalid metadata entry 'name'\u001b[0m\u001b[33m\n",
      "\u001b[0m\u001b[33mWARNING: Skipping /opt/homebrew/lib/python3.12/site-packages/psutil-5.9.6.dist-info due to invalid metadata entry 'name'\u001b[0m\u001b[33m\n",
      "\u001b[0m\u001b[33mWARNING: Skipping /opt/homebrew/lib/python3.12/site-packages/pycparser-2.21.dist-info due to invalid metadata entry 'name'\u001b[0m\u001b[33m\n",
      "\u001b[0m\u001b[33mWARNING: Skipping /opt/homebrew/lib/python3.12/site-packages/cffi-1.16.0.dist-info due to invalid metadata entry 'name'\u001b[0m\u001b[33m\n",
      "\u001b[0m\u001b[33mWARNING: Skipping /opt/homebrew/lib/python3.12/site-packages/six-1.16.0-py3.12.egg-info due to invalid metadata entry 'name'\u001b[0m\u001b[33m\n",
      "\u001b[0m\u001b[33mWARNING: Skipping /opt/homebrew/lib/python3.12/site-packages/certifi-2023.11.17.dist-info due to invalid metadata entry 'name'\u001b[0m\u001b[33m\n",
      "\u001b[0m\u001b[33mWARNING: Skipping /opt/homebrew/lib/python3.12/site-packages/Jinja2-3.1.2.dist-info due to invalid metadata entry 'name'\u001b[0m\u001b[33m\n",
      "\u001b[0m\u001b[33mWARNING: Skipping /opt/homebrew/lib/python3.12/site-packages/PyYAML-6.0.1.dist-info due to invalid metadata entry 'name'\u001b[0m\u001b[33m\n",
      "\u001b[0m\u001b[33mWARNING: Skipping /opt/homebrew/lib/python3.12/site-packages/pygments-2.17.2.dist-info due to invalid metadata entry 'name'\u001b[0m\u001b[33m\n",
      "\u001b[0m\u001b[33mWARNING: Skipping /opt/homebrew/lib/python3.12/site-packages/packaging-23.2.dist-info due to invalid metadata entry 'name'\u001b[0m\u001b[33m\n",
      "\u001b[0m\u001b[33mWARNING: Skipping /opt/homebrew/lib/python3.12/site-packages/psutil-5.9.6.dist-info due to invalid metadata entry 'name'\u001b[0m\u001b[33m\n",
      "\u001b[0m\u001b[33mWARNING: Skipping /opt/homebrew/lib/python3.12/site-packages/pycparser-2.21.dist-info due to invalid metadata entry 'name'\u001b[0m\u001b[33m\n",
      "\u001b[0m\u001b[33mWARNING: Skipping /opt/homebrew/lib/python3.12/site-packages/cffi-1.16.0.dist-info due to invalid metadata entry 'name'\u001b[0m\u001b[33m\n",
      "\u001b[0m\u001b[33mWARNING: Skipping /opt/homebrew/lib/python3.12/site-packages/six-1.16.0-py3.12.egg-info due to invalid metadata entry 'name'\u001b[0m\u001b[33m\n",
      "\u001b[0m\u001b[33mWARNING: Skipping /opt/homebrew/lib/python3.12/site-packages/Jinja2-3.1.2.dist-info due to invalid metadata entry 'name'\u001b[0m\u001b[33m\n",
      "\u001b[0m\u001b[33mWARNING: Skipping /opt/homebrew/lib/python3.12/site-packages/PyYAML-6.0.1.dist-info due to invalid metadata entry 'name'\u001b[0m\u001b[33m\n",
      "\u001b[0m\u001b[33mWARNING: Skipping /opt/homebrew/lib/python3.12/site-packages/pygments-2.17.2.dist-info due to invalid metadata entry 'name'\u001b[0m\u001b[33m\n",
      "\u001b[0m\u001b[33mWARNING: Skipping /opt/homebrew/lib/python3.12/site-packages/packaging-23.2.dist-info due to invalid metadata entry 'name'\u001b[0m\u001b[33m\n",
      "\u001b[0m\u001b[33mWARNING: Skipping /opt/homebrew/lib/python3.12/site-packages/psutil-5.9.6.dist-info due to invalid metadata entry 'name'\u001b[0m\u001b[33m\n",
      "\u001b[0m\u001b[33mWARNING: Skipping /opt/homebrew/lib/python3.12/site-packages/pycparser-2.21.dist-info due to invalid metadata entry 'name'\u001b[0m\u001b[33m\n",
      "\u001b[0m\u001b[33mWARNING: Skipping /opt/homebrew/lib/python3.12/site-packages/cffi-1.16.0.dist-info due to invalid metadata entry 'name'\u001b[0m\u001b[33m\n",
      "\u001b[0m\u001b[33mWARNING: Skipping /opt/homebrew/lib/python3.12/site-packages/six-1.16.0-py3.12.egg-info due to invalid metadata entry 'name'\u001b[0m\u001b[33m\n",
      "\u001b[0m\n",
      "\u001b[1m[\u001b[0m\u001b[34;49mnotice\u001b[0m\u001b[1;39;49m]\u001b[0m\u001b[39;49m A new release of pip is available: \u001b[0m\u001b[31;49m23.2.1\u001b[0m\u001b[39;49m -> \u001b[0m\u001b[32;49m23.3.1\u001b[0m\n",
      "\u001b[1m[\u001b[0m\u001b[34;49mnotice\u001b[0m\u001b[1;39;49m]\u001b[0m\u001b[39;49m To update, run: \u001b[0m\u001b[32;49m/opt/homebrew/Cellar/jupyterlab/4.0.9/libexec/bin/python -m pip install --upgrade pip\u001b[0m\n",
      "Note: you may need to restart the kernel to use updated packages.\n"
     ]
    }
   ],
   "source": [
    "# Install library to count the tokens in the database and use them for a more effective embedding process\n",
    "%pip install tiktoken"
   ]
  },
  {
   "cell_type": "markdown",
   "id": "24bf0f82-f8f0-4bb1-b6bb-7c36de45a550",
   "metadata": {},
   "source": [
    "# TOKENIZING\n",
    "The tiktoken library is used to count the number of tokens in a given text using the GPT-3.5-turbo model. \n",
    "\n",
    "## Why GPT-3.5-turbo?\n",
    "OpenAI provides different models with varying capabilities and costs for the purpose of tokenizing. We chose 'gpt-3.5-turbo' for Studentua because it is a highly capable language model that offers a good balance between performance and cost-effectiveness, especially over other models."
   ]
  },
  {
   "cell_type": "code",
   "execution_count": 4,
   "id": "67a60466",
   "metadata": {},
   "outputs": [
    {
     "name": "stdout",
     "output_type": "stream",
     "text": [
      "Data has been written to ewha_database.csv\n"
     ]
    }
   ],
   "source": [
    "# Import necessary libraries\n",
    "import tiktoken\n",
    "import csv\n",
    "\n",
    "# User the tiktoken library to count the tokens in the database\n",
    "def count_tokens(text: str) -> int:\n",
    "    \"\"\"Return the number of tokens in the given text\"\"\"\n",
    "    encoding = tiktoken.encoding_for_model(model_name='gpt-3.5-turbo')\n",
    "    num_tokens = len(encoding.encode(text=text))\n",
    "    return num_tokens\n",
    "\n",
    "# Update the data variable to include a new column 'token'\n",
    "for entry in data:\n",
    "    content = entry['content']\n",
    "    # Calculate the token count\n",
    "    tokens = count_tokens(content)\n",
    "    # Add the \"token\" key with the calculated value to the dictionary\n",
    "    entry['token'] = tokens\n",
    "\n",
    "# Define the CSV file name\n",
    "csv_filename = 'ewha_database.csv'\n",
    "\n",
    "# Write the data to a CSV file\n",
    "with open(csv_filename, 'w', newline='') as csvfile:\n",
    "    fieldnames = ['title', 'heading', 'content', 'token']\n",
    "    writer = csv.DictWriter(csvfile, fieldnames=fieldnames)\n",
    "\n",
    "    # Write the header row\n",
    "    writer.writeheader()\n",
    "\n",
    "    # Write the data rows\n",
    "    for entry in data:\n",
    "        writer.writerow({'title': entry['title'],\n",
    "                         'heading': entry['heading'],\n",
    "                         'content': entry['content'],\n",
    "                         'token': entry['token']})\n",
    "\n",
    "print(f'Data has been written to {csv_filename}')"
   ]
  },
  {
   "cell_type": "code",
   "execution_count": 5,
   "id": "57a0563b",
   "metadata": {},
   "outputs": [
    {
     "name": "stdout",
     "output_type": "stream",
     "text": [
      "{'title': 'Ewha Womans University Introduction', 'heading': 'About Ewha', 'content': \"Ewha Womans University is a private research university for women in Seoul, South Korea. Founded in 1886, it is the oldest and largest women's university in South Korea. Ewha is a comprehensive university with 11 colleges and 13 graduate schools offering over 100 undergraduate and graduate programs. The university is known for its strong academic programs, especially in the fields of humanities, social sciences, and natural sciences. Ewha also has a strong reputation for its international programs and has exchange agreements with over 300 universities around the world.\", 'token': '113'}\n",
      "{'title': 'Ewha Womans University Rankings', 'heading': 'World University Rankings', 'content': 'Ewha Womans University is ranked among the top universities in Asia and the world. In the 2023 QS World University Rankings, Ewha is ranked 101-150th in the world and 1st in South Korea. In the 2023 Times Higher Education World University Rankings, Ewha is ranked 151-200th in the world and 1st in South Korea.', 'token': '83'}\n",
      "{'title': 'Undergraduate Admissions', 'heading': 'Requirements', 'content': 'Applicants must have a high school diploma or equivalent.\\nApplicants must submit their academic transcripts, standardized test scores (such as SAT or ACT), and letters of recommendation.\\nApplicants must also write an essay and submit a personal statement.\\nThe specific requirements for each program may vary, so it is important to check with the university for more information.', 'token': '69'}\n"
     ]
    }
   ],
   "source": [
    "csv_filename = 'ewha_database.csv'\n",
    "\n",
    "with open(csv_filename, newline='') as csvfile:\n",
    "    reader = csv.DictReader(csvfile)\n",
    "    for row in reader:\n",
    "        print(row)"
   ]
  },
  {
   "cell_type": "code",
   "execution_count": 7,
   "id": "c4513536",
   "metadata": {},
   "outputs": [
    {
     "name": "stdout",
     "output_type": "stream",
     "text": [
      "3 rows in the data.\n"
     ]
    },
    {
     "data": {
      "text/html": [
       "<div>\n",
       "<style scoped>\n",
       "    .dataframe tbody tr th:only-of-type {\n",
       "        vertical-align: middle;\n",
       "    }\n",
       "\n",
       "    .dataframe tbody tr th {\n",
       "        vertical-align: top;\n",
       "    }\n",
       "\n",
       "    .dataframe thead th {\n",
       "        text-align: right;\n",
       "    }\n",
       "</style>\n",
       "<table border=\"1\" class=\"dataframe\">\n",
       "  <thead>\n",
       "    <tr style=\"text-align: right;\">\n",
       "      <th></th>\n",
       "      <th>title</th>\n",
       "      <th>heading</th>\n",
       "      <th>content</th>\n",
       "      <th>token</th>\n",
       "    </tr>\n",
       "  </thead>\n",
       "  <tbody>\n",
       "    <tr>\n",
       "      <th>0</th>\n",
       "      <td>Ewha Womans University Introduction</td>\n",
       "      <td>About Ewha</td>\n",
       "      <td>Ewha Womans University is a private research u...</td>\n",
       "      <td>113</td>\n",
       "    </tr>\n",
       "    <tr>\n",
       "      <th>1</th>\n",
       "      <td>Ewha Womans University Rankings</td>\n",
       "      <td>World University Rankings</td>\n",
       "      <td>Ewha Womans University is ranked among the top...</td>\n",
       "      <td>83</td>\n",
       "    </tr>\n",
       "    <tr>\n",
       "      <th>2</th>\n",
       "      <td>Undergraduate Admissions</td>\n",
       "      <td>Requirements</td>\n",
       "      <td>Applicants must have a high school diploma or ...</td>\n",
       "      <td>69</td>\n",
       "    </tr>\n",
       "  </tbody>\n",
       "</table>\n",
       "</div>"
      ],
      "text/plain": [
       "                                 title                    heading  \\\n",
       "0  Ewha Womans University Introduction                 About Ewha   \n",
       "1      Ewha Womans University Rankings  World University Rankings   \n",
       "2             Undergraduate Admissions               Requirements   \n",
       "\n",
       "                                             content  token  \n",
       "0  Ewha Womans University is a private research u...    113  \n",
       "1  Ewha Womans University is ranked among the top...     83  \n",
       "2  Applicants must have a high school diploma or ...     69  "
      ]
     },
     "execution_count": 7,
     "metadata": {},
     "output_type": "execute_result"
    }
   ],
   "source": [
    "# Check the resultant database file with the added token column\n",
    "import pandas as pd\n",
    "\n",
    "df = pd.read_csv('ewha_database.csv')\n",
    "print(f\"{len(df)} rows in the data.\")\n",
    "df.sample(3)"
   ]
  },
  {
   "cell_type": "markdown",
   "id": "0485f8d6-fd8d-4216-bb60-4f77d652c7c4",
   "metadata": {},
   "source": [
    "# DATABASE STRUCTURE\n",
    "This sample database is designed to organize information about Ewha Womans University. The structure of the database with columns like \"title,\" \"heading,\" \"content,\" and \"token\" serves a specific purpose in the context of using OpenAI's models for natural language processing tasks. Let's break down the significance of each column:\n",
    "\n",
    "### Title:\n",
    "Represents the title of a specific entry. This column helps identify and categorize different pieces of information in the database.\n",
    "### Heading:\n",
    "Represents the heading of a specific sections within each entry. This column can provide additional context or organization within each entry.\n",
    "### Content:\n",
    "Contains the main textual content or information associated with each entry. It includes detailed descriptions, requirements, or any other relevant information about the topic. This is the text that will be processed by the GPT-3.5-turbo model to tokenize it, and OpenAI's Completion and Embedding APIs to generate responses, answer questions, or perform other natural language tasks.\n",
    "### Token:\n",
    "Stores the precalculated token count for the corresponding \"content\" of each entry. Tokens are chunks of text that language models like GPT-3 process. The token count is essential because OpenAI charges per token for model usage. Understanding the token count allows us to manage and control costs when interacting with OpenAI.\n",
    "\n",
    "### In summary, this structure facilitates efficient data management and effective use of the language model for natural language understanding and generation tasks."
   ]
  }
 ],
 "metadata": {
  "kernelspec": {
   "display_name": "Python 3 (ipykernel)",
   "language": "python",
   "name": "python3"
  },
  "language_info": {
   "codemirror_mode": {
    "name": "ipython",
    "version": 3
   },
   "file_extension": ".py",
   "mimetype": "text/x-python",
   "name": "python",
   "nbconvert_exporter": "python",
   "pygments_lexer": "ipython3",
   "version": "3.12.0"
  }
 },
 "nbformat": 4,
 "nbformat_minor": 5
}
